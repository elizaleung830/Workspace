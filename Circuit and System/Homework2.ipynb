{
 "cells": [
  {
   "cell_type": "code",
   "execution_count": 38,
   "id": "initial_id",
   "metadata": {
    "collapsed": true,
    "ExecuteTime": {
     "end_time": "2024-05-12T01:46:02.870504500Z",
     "start_time": "2024-05-12T01:46:02.674970900Z"
    }
   },
   "outputs": [
    {
     "name": "stdout",
     "output_type": "stream",
     "text": [
      "x_C (-0-500j)\n",
      "x_L 10j\n",
      "x_para (-0+10.204081632653061j)\n",
      "Vth (0.39984006397441024+1.9592163134746101j) phasor: 1.999600119960014<78.46537934635528\n",
      "Rth (1.9992003198720514+9.79608156737305j) phasor: 9.99800059980007<78.46537934635528\n"
     ]
    }
   ],
   "source": [
    "a = [1,8,9,9,5,7,1,None]\n",
    "a = a[::-1]\n",
    "import numpy as np\n",
    "\n",
    "def parallel(a, b):\n",
    "    return (a**-1 + b**-1)**-1\n",
    "\n",
    "def question1():\n",
    "    C = 1 * 10**-6\n",
    "    L = 5 * 10**-3\n",
    "    w = 1000*(a[1] + 1)\n",
    "    x_c = -1j/(w*C)\n",
    "    x_L = 1j * w* L\n",
    "    x_parallel = parallel(x_L,x_c)\n",
    "    \n",
    "    Vth = 10 * x_parallel/ (x_parallel + 50)\n",
    "    print(f\"x_C {x_c}\")\n",
    "    print(f\"x_L {x_L}\")\n",
    "    print(f\"x_para {x_parallel}\")\n",
    "    print(f\"Vth {Vth} phasor: {abs(Vth)}<{np.angle(Vth, deg=True)}\")\n",
    "    print(f\"Rth {parallel(x_parallel, 50)} phasor: {abs(parallel(x_parallel, 50))}<{np.angle(parallel(x_parallel, 50), deg= True)}\")\n",
    "    \n",
    "question1()"
   ]
  },
  {
   "cell_type": "code",
   "execution_count": 40,
   "outputs": [
    {
     "name": "stdout",
     "output_type": "stream",
     "text": [
      "question 2a 8.5\n",
      "question 2c -10.875\n"
     ]
    }
   ],
   "source": [
    "print(f\"question 2a {(a[2]+10)/2}\")\n",
    "\n",
    "print(f\"question 2c {2*(-a[2]-1)+1 +1/(a[2] + 1) + 4 }\")"
   ],
   "metadata": {
    "collapsed": false,
    "ExecuteTime": {
     "end_time": "2024-05-12T01:46:41.799779400Z",
     "start_time": "2024-05-12T01:46:41.750036300Z"
    }
   },
   "id": "29c5157af19bcb19"
  },
  {
   "cell_type": "code",
   "execution_count": 44,
   "outputs": [
    {
     "name": "stdout",
     "output_type": "stream",
     "text": [
      "0.057454771745964⋅v_b = -0.10628631677493\n",
      "ib is 0.0000165056738206851\n",
      "ie is 0.00826934258416325\n",
      "vb is -1.84991278435279\n",
      "ve is -2.54991278435279\n",
      "vc is 2.23267373351910\n",
      "vr5 is -3.37684704276911\n"
     ]
    },
    {
     "data": {
      "text/plain": "[-1.84991278435279]"
     },
     "execution_count": 44,
     "metadata": {},
     "output_type": "execute_result"
    }
   ],
   "source": [
    "import math\n",
    "from sympy import *\n",
    "from IPython.display import display, Math\n",
    "V_b = symbols(\"v_b\")\n",
    "R4 = 100\n",
    "R5 = 680\n",
    "R3 = 820\n",
    "beta = 500\n",
    "VEE = -9\n",
    "Vcc = 9\n",
    "Vbb = -1.7027\n",
    "RTH = 8918.92\n",
    "\n",
    "equation = Eq(V_b * (1/(R4 + R5) + (1+beta)/(RTH)), (0.7+VEE)/(R4+R5)+(1+beta)*Vbb/RTH)\n",
    "\n",
    "sol= solve(equation, V_b)\n",
    "ib = (Vbb-(sol[0]))/RTH\n",
    "print(f\"ib is {(Vbb-(sol[0]))/RTH}\")\n",
    "print(f\"ie is {(beta + 1)* (Vbb-(sol[0]))/RTH}\")\n",
    "print(f\"vb is {sol[0]}\")\n",
    "print(f\"ve is {sol[0]- 0.7}\")\n",
    "print(f\"vc is {Vcc - R3 * ib * beta}\")\n",
    "print(f\"vr5 is {sol[0] - 0.7 - ib* (beta + 1) * R4 }\")\n",
    "solve(equation, V_b)"
   ],
   "metadata": {
    "collapsed": false,
    "ExecuteTime": {
     "end_time": "2024-05-15T02:45:58.786089Z",
     "start_time": "2024-05-15T02:45:58.597965100Z"
    }
   },
   "id": "b27130ee86b514d6"
  },
  {
   "cell_type": "code",
   "execution_count": 47,
   "outputs": [
    {
     "name": "stdout",
     "output_type": "stream",
     "text": [
      "[6800.00000000000]\n",
      "[798.133333333333]\n"
     ]
    }
   ],
   "source": [
    "Ri = symbols('R_i')\n",
    "R_in_known = 6800\n",
    "V_in_known = 1.5\n",
    "V_s = 3\n",
    "eq1 = Eq(Ri/(Ri+R_in_known), V_in_known/V_s)\n",
    "print(solve(eq1, Ri))\n",
    "\n",
    "\n",
    "R_out = symbols('R_out')\n",
    "R_out_known = 820\n",
    "V_out_known = 1.5\n",
    "V_out = 2.96\n",
    "eq2 = Eq(R_out_known/(R_out+R_out_known), V_out_known/V_out)\n",
    "print(solve(eq2, R_out))"
   ],
   "metadata": {
    "collapsed": false,
    "ExecuteTime": {
     "end_time": "2024-05-15T03:24:21.169455600Z",
     "start_time": "2024-05-15T03:24:21.156108300Z"
    }
   },
   "id": "de59b4fee5439046"
  },
  {
   "cell_type": "markdown",
   "source": [],
   "metadata": {
    "collapsed": false
   },
   "id": "f4875ce79f9baaa"
  },
  {
   "cell_type": "code",
   "execution_count": 92,
   "outputs": [
    {
     "name": "stdout",
     "output_type": "stream",
     "text": [
      "R8 is 820\n",
      "R9 should be less than 262.8205128205128\n",
      "R10 should be around 202.032094889238\n",
      "R6 and R7 should be smaller than this value:  [(3911.92384459562, 1399.15862810170)]\n",
      "888.8504383592866\n",
      "Capacitor C3 is greater than 8.952852821093089uF\n",
      "Capacitor C4 is greater than 36.17157797543076uF\n",
      "Rounded resistors: R6:3900.0 R7:1200.0 R8:820 R9:220.0 R10:180.0\n"
     ]
    }
   ],
   "source": [
    "from eseries import find_less_than_or_equal, E12\n",
    "def parallel(a, b):\n",
    "    return (a**-1 + b**-1)**-1\n",
    "\n",
    "## Bias voltage calculation\n",
    "R8 = 820\n",
    "A2 = -3.12\n",
    "beta = 125\n",
    "print(f\"R8 is {R8}\")\n",
    "\n",
    "## Bias voltage configuration \n",
    "V_c = 1.5\n",
    "V_e = -6\n",
    "V_b = V_e + 0.7\n",
    "alpha = (beta/(beta + 1 ))\n",
    "\n",
    "\n",
    "# Calculate R9\n",
    "R9 = -R8 / A2\n",
    "print(f\"R9 should be less than {R9}\")\n",
    "\n",
    "# Calculate R10\n",
    "R10 = symbols(\"R_10\")\n",
    "eq1 = Eq((9 - V_c)/R8, (V_e + 9)/(R9 + R10)*alpha) # KCL\n",
    "result = solve(eq1, R10)\n",
    "print(f\"R10 should be around {result[0]}\")\n",
    "R10 = find_less_than_or_equal(E12, result[0])\n",
    "# Calculate R6 and R7\n",
    "R6, R7 = symbols(\"R_6,R_7\")\n",
    "Vth = (18* R7/(R6+R7) - 9)\n",
    "Rth = parallel(R6, R7)\n",
    "\n",
    "Ie = (V_e + 9)/(R4 + R5)\n",
    "g_m = Ie/0.025/alpha\n",
    "r_pi = beta/g_m\n",
    "KCL = Eq((Vth-V_b)/Rth * (1+beta), Ie)\n",
    "R_in2 = Eq(parallel(r_pi+(beta + 1)* R9, Rth), 1000)\n",
    "result = solve([KCL, R_in2], [R6, R7])\n",
    "print(\"R6 and R7 should be smaller than this value: \", result)\n",
    "\n",
    "R6 = find_less_than_or_equal(E12, result[0][0])\n",
    "R7 = find_less_than_or_equal(E12, result[0][1])\n",
    "R9= find_less_than_or_equal(E12, R9)\n",
    "Rth = parallel(R6, R7)\n",
    "R_in2 = parallel(r_pi+(beta + 1)* R9, Rth)\n",
    "\n",
    "#Capacitor\n",
    "print(f\"Capacitor C3 is greater than {1/(2*20*math.pi*R_in2)* 10**6}uF\")\n",
    "print(f\"Capacitor C4 is greater than {1/(2*20*math.pi*R9) * 10**6}uF\")\n",
    "print(f\"Rounded resistors: R6:{R6} R7:{R7} R8:{R8} R9:{R9} R10:{R10}\")"
   ],
   "metadata": {
    "collapsed": false,
    "ExecuteTime": {
     "end_time": "2024-05-15T07:24:58.476616700Z",
     "start_time": "2024-05-15T07:24:58.419617700Z"
    }
   },
   "id": "df56219619f961ff"
  },
  {
   "cell_type": "code",
   "execution_count": null,
   "outputs": [],
   "source": [
    "solve(eq1, Ri)"
   ],
   "metadata": {
    "collapsed": false
   },
   "id": "2c99c4b3932f6b9b"
  }
 ],
 "metadata": {
  "kernelspec": {
   "display_name": "Python 3",
   "language": "python",
   "name": "python3"
  },
  "language_info": {
   "codemirror_mode": {
    "name": "ipython",
    "version": 2
   },
   "file_extension": ".py",
   "mimetype": "text/x-python",
   "name": "python",
   "nbconvert_exporter": "python",
   "pygments_lexer": "ipython2",
   "version": "2.7.6"
  }
 },
 "nbformat": 4,
 "nbformat_minor": 5
}
