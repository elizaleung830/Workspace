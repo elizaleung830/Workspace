{
 "cells": [
  {
   "cell_type": "markdown",
   "source": [
    "Libary for solve(): https://docs.sympy.org/latest/modules/solvers/solvers.html#sympy.solvers.solvers.solve\n",
    "- use.n() to convert to decimal"
   ],
   "metadata": {
    "collapsed": false
   },
   "id": "af1b265e183f0444"
  },
  {
   "cell_type": "code",
   "execution_count": 33,
   "outputs": [
    {
     "name": "stdout",
     "output_type": "stream",
     "text": [
      "Capacitor Equation :\n"
     ]
    },
    {
     "data": {
      "text/plain": "<IPython.core.display.Math object>",
      "text/latex": "$\\displaystyle c \\frac{d}{d t} v{\\left(t \\right)} = i{\\left(t \\right)}$"
     },
     "metadata": {},
     "output_type": "display_data"
    },
    {
     "name": "stdout",
     "output_type": "stream",
     "text": [
      "Inductor Equation :\n"
     ]
    },
    {
     "data": {
      "text/plain": "<IPython.core.display.Math object>",
      "text/latex": "$\\displaystyle L \\frac{d}{d t} i{\\left(t \\right)} = v{\\left(t \\right)}$"
     },
     "metadata": {},
     "output_type": "display_data"
    }
   ],
   "source": [
    "import math\n",
    "from sympy import *\n",
    "from IPython.display import display, Math\n",
    "vo, v1, v2, c, i, v, t, l, r = symbols('v_o v_1 v_2 c i v t L R')\n",
    "v = Function(\"v\")(t)\n",
    "i = Function(\"i\")(t)\n",
    "\n",
    "print(\"Capacitor Equation :\")\n",
    "capacitor = Eq(Derivative(v, t) * c, i)\n",
    "display(Math(latex(capacitor)))\n",
    "\n",
    "print(\"Inductor Equation :\")\n",
    "inductor = Eq(Derivative(i, t) * l, v )\n",
    "display(Math(latex(inductor)))"
   ],
   "metadata": {
    "collapsed": false,
    "ExecuteTime": {
     "end_time": "2024-03-08T11:30:08.301025300Z",
     "start_time": "2024-03-08T11:30:08.294658Z"
    }
   },
   "id": "8f84c4795f260ee"
  },
  {
   "cell_type": "code",
   "execution_count": 53,
   "id": "initial_id",
   "metadata": {
    "collapsed": true,
    "ExecuteTime": {
     "end_time": "2024-03-08T11:55:11.746302700Z",
     "start_time": "2024-03-08T11:55:11.730017500Z"
    }
   },
   "outputs": [
    {
     "data": {
      "text/plain": "<IPython.core.display.Math object>",
      "text/latex": "$\\displaystyle - 0.95 v_{1} + 1.95 v_{2}$"
     },
     "metadata": {},
     "output_type": "display_data"
    }
   ],
   "source": [
    "def question4(x):\n",
    "    eq = ((v2-v1)/10000 + (v2 - vo)/x)\n",
    "    return solve(eq, vo)[0].n(4)\n",
    "display(Math(latex(question4(9500))))"
   ]
  },
  {
   "cell_type": "code",
   "execution_count": 55,
   "outputs": [
    {
     "data": {
      "text/plain": "<IPython.core.display.Math object>",
      "text/latex": "$\\displaystyle - 3.35 v_{1} - 1.34 v_{2}$"
     },
     "metadata": {},
     "output_type": "display_data"
    }
   ],
   "source": [
    "def question5(x):\n",
    "    eq = (v1/2000 + v2/5000 + vo/x)\n",
    "    return solve(eq, vo)[0].n(4)\n",
    "display(Math(latex(question5(6700))))"
   ],
   "metadata": {
    "collapsed": false,
    "ExecuteTime": {
     "end_time": "2024-03-08T11:55:43.174978700Z",
     "start_time": "2024-03-08T11:55:43.169604300Z"
    }
   },
   "id": "35ee05af44544d0d"
  },
  {
   "cell_type": "code",
   "execution_count": 56,
   "outputs": [
    {
     "data": {
      "text/plain": "<IPython.core.display.Math object>",
      "text/latex": "$\\displaystyle 2.13 \\sin{\\left(3.0 t \\right)}$"
     },
     "metadata": {},
     "output_type": "display_data"
    }
   ],
   "source": [
    "def question7(x):\n",
    "    v1 = 5 * cos(3*t) \n",
    "    c = 0.02\n",
    "    eq = Eq(c* Derivative(v1, t), - vo/x)\n",
    "    return solve(eq, vo)[0]\n",
    "display(Math(latex(question7(7.1))))"
   ],
   "metadata": {
    "collapsed": false,
    "ExecuteTime": {
     "end_time": "2024-03-08T11:55:59.489816600Z",
     "start_time": "2024-03-08T11:55:59.486182200Z"
    }
   },
   "id": "8830356d385cdf87"
  },
  {
   "cell_type": "code",
   "execution_count": 57,
   "outputs": [
    {
     "name": "stdout",
     "output_type": "stream",
     "text": [
      "22.22222222222222\n"
     ]
    }
   ],
   "source": [
    "def question9(x):\n",
    "    return 6 /(2-x) \n",
    "print(question9(1.73))"
   ],
   "metadata": {
    "collapsed": false,
    "ExecuteTime": {
     "end_time": "2024-03-08T11:56:14.717317500Z",
     "start_time": "2024-03-08T11:56:14.713806600Z"
    }
   },
   "id": "7fd2a5e48c5fea89"
  },
  {
   "cell_type": "code",
   "execution_count": null,
   "outputs": [],
   "source": [],
   "metadata": {
    "collapsed": false
   },
   "id": "213bff2c2c416c1a"
  }
 ],
 "metadata": {
  "kernelspec": {
   "display_name": "Python 3",
   "language": "python",
   "name": "python3"
  },
  "language_info": {
   "codemirror_mode": {
    "name": "ipython",
    "version": 2
   },
   "file_extension": ".py",
   "mimetype": "text/x-python",
   "name": "python",
   "nbconvert_exporter": "python",
   "pygments_lexer": "ipython2",
   "version": "2.7.6"
  }
 },
 "nbformat": 4,
 "nbformat_minor": 5
}
