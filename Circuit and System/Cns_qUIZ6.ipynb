{
 "cells": [
  {
   "cell_type": "code",
   "execution_count": 1,
   "id": "initial_id",
   "metadata": {
    "collapsed": true,
    "ExecuteTime": {
     "end_time": "2024-04-05T01:46:37.416865300Z",
     "start_time": "2024-04-05T01:46:36.938687600Z"
    }
   },
   "outputs": [
    {
     "name": "stdout",
     "output_type": "stream",
     "text": [
      "Capacitor Equation :\n"
     ]
    },
    {
     "data": {
      "text/plain": "<IPython.core.display.Math object>",
      "text/latex": "$\\displaystyle c \\frac{d}{d t} v{\\left(t \\right)} = i{\\left(t \\right)}$"
     },
     "metadata": {},
     "output_type": "display_data"
    },
    {
     "name": "stdout",
     "output_type": "stream",
     "text": [
      "Inductor Equation :\n"
     ]
    },
    {
     "data": {
      "text/plain": "<IPython.core.display.Math object>",
      "text/latex": "$\\displaystyle L \\frac{d}{d t} i{\\left(t \\right)} = v{\\left(t \\right)}$"
     },
     "metadata": {},
     "output_type": "display_data"
    }
   ],
   "source": [
    "import math\n",
    "from sympy import *\n",
    "from IPython.display import display, Math\n",
    "vo, v1, v2, c, i, v, t, l, r = symbols('v_o v_1 v_2 c i v t L R')\n",
    "v = Function(\"v\")(t)\n",
    "i = Function(\"i\")(t)\n",
    "\n",
    "print(\"Capacitor Equation :\")\n",
    "capacitor = Eq(Derivative(v, t) * c, i)\n",
    "display(Math(latex(capacitor)))\n",
    "\n",
    "print(\"Inductor Equation :\")\n",
    "inductor = Eq(Derivative(i, t) * l, v )\n",
    "display(Math(latex(inductor)))"
   ]
  },
  {
   "cell_type": "code",
   "execution_count": 2,
   "outputs": [
    {
     "data": {
      "text/plain": "5.80594901052240",
      "text/latex": "$\\displaystyle 5.8059490105224$"
     },
     "execution_count": 2,
     "metadata": {},
     "output_type": "execute_result"
    }
   ],
   "source": [
    "def question3(x):\n",
    "    return (8*exp(-0.4*x)*cos(10*pi*x))**2\n",
    "question3(3)"
   ],
   "metadata": {
    "collapsed": false,
    "ExecuteTime": {
     "end_time": "2024-04-05T01:59:27.956931600Z",
     "start_time": "2024-04-05T01:59:27.946774800Z"
    }
   },
   "id": "7742c19946606c42"
  },
  {
   "cell_type": "code",
   "execution_count": 9,
   "outputs": [
    {
     "name": "stdout",
     "output_type": "stream",
     "text": [
      "0\n"
     ]
    }
   ],
   "source": [
    "\n",
    "t = -3\n",
    "print(t**3 + 6*t**2+11*t + 6)"
   ],
   "metadata": {
    "collapsed": false,
    "ExecuteTime": {
     "end_time": "2024-04-05T02:33:39.891079500Z",
     "start_time": "2024-04-05T02:33:39.888570300Z"
    }
   },
   "id": "989d48327e97bcd5"
  },
  {
   "cell_type": "code",
   "execution_count": null,
   "outputs": [],
   "source": [],
   "metadata": {
    "collapsed": false
   },
   "id": "fa71b6fa5c0c59c7"
  }
 ],
 "metadata": {
  "kernelspec": {
   "display_name": "Python 3",
   "language": "python",
   "name": "python3"
  },
  "language_info": {
   "codemirror_mode": {
    "name": "ipython",
    "version": 2
   },
   "file_extension": ".py",
   "mimetype": "text/x-python",
   "name": "python",
   "nbconvert_exporter": "python",
   "pygments_lexer": "ipython2",
   "version": "2.7.6"
  }
 },
 "nbformat": 4,
 "nbformat_minor": 5
}
