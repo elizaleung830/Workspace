{
 "cells": [
  {
   "cell_type": "code",
   "execution_count": 1,
   "id": "initial_id",
   "metadata": {
    "collapsed": true,
    "ExecuteTime": {
     "end_time": "2024-03-16T05:42:13.837287800Z",
     "start_time": "2024-03-16T05:42:13.538171600Z"
    }
   },
   "outputs": [
    {
     "name": "stdout",
     "output_type": "stream",
     "text": [
      "Capacitor Equation :\n"
     ]
    },
    {
     "data": {
      "text/plain": "<IPython.core.display.Math object>",
      "text/latex": "$\\displaystyle c \\frac{d}{d t} v{\\left(t \\right)} = i{\\left(t \\right)}$"
     },
     "metadata": {},
     "output_type": "display_data"
    },
    {
     "name": "stdout",
     "output_type": "stream",
     "text": [
      "Inductor Equation :\n"
     ]
    },
    {
     "data": {
      "text/plain": "<IPython.core.display.Math object>",
      "text/latex": "$\\displaystyle L \\frac{d}{d t} i{\\left(t \\right)} = v{\\left(t \\right)}$"
     },
     "metadata": {},
     "output_type": "display_data"
    }
   ],
   "source": [
    "import math\n",
    "from sympy import *\n",
    "from IPython.display import display, Math\n",
    "vo, v1, v2, c, i, v, t, l, r = symbols('v_o v_1 v_2 c i v t L R')\n",
    "v = Function(\"v\")(t)\n",
    "i = Function(\"i\")(t)\n",
    "\n",
    "print(\"Capacitor Equation :\")\n",
    "capacitor = Eq(Derivative(v, t) * c, i)\n",
    "display(Math(latex(capacitor)))\n",
    "\n",
    "print(\"Inductor Equation :\")\n",
    "inductor = Eq(Derivative(i, t) * l, v )\n",
    "display(Math(latex(inductor)))"
   ]
  },
  {
   "cell_type": "code",
   "execution_count": 9,
   "outputs": [
    {
     "name": "stdout",
     "output_type": "stream",
     "text": [
      "voltage: f46.66666666666667, resistance : 50.00000000000001 Power:10.888888888888895\n"
     ]
    }
   ],
   "source": [
    "a = [None,5, 6, 8, 0, 9, 8, 1]\n",
    "def question1():\n",
    "    V = 20/3 * (2+a[1])\n",
    "    r = V/(2/15*(2+a[1]))\n",
    "    print(f\"voltage: f{V}, resistance : {r} Power:{(V/(r+50))**2 *r}\")\n",
    "question1()"
   ],
   "metadata": {
    "collapsed": false,
    "ExecuteTime": {
     "end_time": "2024-03-16T06:09:31.675218300Z",
     "start_time": "2024-03-16T06:09:31.672706500Z"
    }
   },
   "id": "1c2eb7918573d42a"
  },
  {
   "cell_type": "code",
   "execution_count": 22,
   "outputs": [
    {
     "name": "stdout",
     "output_type": "stream",
     "text": [
      "i1 : 0.72727\n",
      "i2 : 3.7273\n",
      "i3 : -1.2364\n",
      "i4 : -2.0000\n"
     ]
    }
   ],
   "source": [
    "def question2a(a2):\n",
    "    i1, i2, i3, i4 = symbols(\"i1 i2 i3 i4\")\n",
    "    vs = a2 + 2\n",
    "    eq1 = Eq(11*i1+ 6*i2 +10 * i3 + 9*i4, 0)\n",
    "    eq2 = Eq(i2-i1, 3)\n",
    "    eq3 = Eq(6*i1+10*i3+vs, 0)\n",
    "    eq4 = Eq(i4, -2)\n",
    "    \n",
    "    ans = solve((eq1,eq2,eq3,eq4), (i1,i2,i3,i4))\n",
    "    for name, num in ans.items():\n",
    "        print(f\"{name} : {num.n(5)}\")\n",
    "question2a(a[2])"
   ],
   "metadata": {
    "collapsed": false,
    "ExecuteTime": {
     "end_time": "2024-03-16T08:14:15.513732400Z",
     "start_time": "2024-03-16T08:14:15.512727900Z"
    }
   },
   "id": "fbcbf6833b170944"
  },
  {
   "cell_type": "code",
   "execution_count": 23,
   "outputs": [
    {
     "name": "stdout",
     "output_type": "stream",
     "text": [
      "v1 : 8.00000\n",
      "v2 : 2.90909\n",
      "v3 : 10.3636\n",
      "v4 : 6.54545\n"
     ]
    }
   ],
   "source": [
    "def question2b(a2):\n",
    "    v1, v2, v3, v4 = symbols(\"v1 v2 v3 v4\")\n",
    "    vs = a2 + 2\n",
    "    eq1 = Eq(v1, vs)\n",
    "    eq2 = Eq(v2, 2*v1- 2*v4)\n",
    "    eq3 = Eq(3-v3*(1/6+1/3)+v4/3, 0)\n",
    "    eq4 = Eq(2+v4*(1/3+1/2)-v3/3-v1/2, 0)\n",
    "    \n",
    "    ans = solve((eq1,eq2,eq3,eq4), (v1,v2,v3,v4))\n",
    "    for name, num in ans.items():\n",
    "        print(f\"{name} : {num.n(6)}\")\n",
    "question2b(a[2])"
   ],
   "metadata": {
    "collapsed": false,
    "ExecuteTime": {
     "end_time": "2024-03-16T08:15:53.744882100Z",
     "start_time": "2024-03-16T08:15:53.743877900Z"
    }
   },
   "id": "bf2699580f060e15"
  },
  {
   "cell_type": "code",
   "execution_count": null,
   "outputs": [],
   "source": [],
   "metadata": {
    "collapsed": false
   },
   "id": "e81a7df1a9414434"
  }
 ],
 "metadata": {
  "kernelspec": {
   "display_name": "Python 3",
   "language": "python",
   "name": "python3"
  },
  "language_info": {
   "codemirror_mode": {
    "name": "ipython",
    "version": 2
   },
   "file_extension": ".py",
   "mimetype": "text/x-python",
   "name": "python",
   "nbconvert_exporter": "python",
   "pygments_lexer": "ipython2",
   "version": "2.7.6"
  }
 },
 "nbformat": 4,
 "nbformat_minor": 5
}
