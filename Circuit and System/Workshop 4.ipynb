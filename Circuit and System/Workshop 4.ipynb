{
 "cells": [
  {
   "cell_type": "code",
   "execution_count": null,
   "id": "initial_id",
   "metadata": {
    "collapsed": true
   },
   "outputs": [],
   "source": [
    "import math\n",
    "from sympy import *\n",
    "from IPython.display import display, Math\n",
    "vo, v1, v2, c, i, v, t, l, r = symbols('v_o v_1 v_2 c i v t L R')\n",
    "v = Function(\"v\")(t)\n",
    "i = Function(\"i\")(t)\n",
    "\n",
    "print(\"Capacitor Equation :\")\n",
    "capacitor = Eq(Derivative(v, t) * c, i)\n",
    "display(Math(latex(capacitor)))\n",
    "\n",
    "print(\"Inductor Equation :\")\n",
    "inductor = Eq(Derivative(i, t) * l, v )\n",
    "display(Math(latex(inductor)))\n",
    "\n",
    "\n",
    "R = 8\n",
    "L = 5\n",
    "C = 2 * 10**-3\n",
    "alpha = R/2/L\n",
    "wo = 1/ sqrt(L*C)\n",
    "\n",
    "s1 = -alpha + sqrt(alpha**2 - wo**2)\n",
    "s2 = -alpha - sqrt(alpha**2 - wo**2)\n",
    "\n"
   ]
  }
 ],
 "metadata": {
  "kernelspec": {
   "display_name": "Python 3",
   "language": "python",
   "name": "python3"
  },
  "language_info": {
   "codemirror_mode": {
    "name": "ipython",
    "version": 2
   },
   "file_extension": ".py",
   "mimetype": "text/x-python",
   "name": "python",
   "nbconvert_exporter": "python",
   "pygments_lexer": "ipython2",
   "version": "2.7.6"
  }
 },
 "nbformat": 4,
 "nbformat_minor": 5
}
