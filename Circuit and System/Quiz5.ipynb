{
 "cells": [
  {
   "cell_type": "code",
   "execution_count": 6,
   "id": "initial_id",
   "metadata": {
    "collapsed": true,
    "ExecuteTime": {
     "end_time": "2024-03-28T04:27:33.706897300Z",
     "start_time": "2024-03-28T04:27:33.692944300Z"
    }
   },
   "outputs": [
    {
     "name": "stdout",
     "output_type": "stream",
     "text": [
      "Capacitor Equation :\n"
     ]
    },
    {
     "data": {
      "text/plain": "<IPython.core.display.Math object>",
      "text/latex": "$\\displaystyle c \\frac{d}{d t} v{\\left(t \\right)} = i{\\left(t \\right)}$"
     },
     "metadata": {},
     "output_type": "display_data"
    },
    {
     "name": "stdout",
     "output_type": "stream",
     "text": [
      "Inductor Equation :\n"
     ]
    },
    {
     "data": {
      "text/plain": "<IPython.core.display.Math object>",
      "text/latex": "$\\displaystyle L \\frac{d}{d t} i{\\left(t \\right)} = v{\\left(t \\right)}$"
     },
     "metadata": {},
     "output_type": "display_data"
    }
   ],
   "source": [
    "import math\n",
    "import numpy as np\n",
    "from sympy import *\n",
    "from IPython.display import display, Math\n",
    "vo, v1, v2, c, i, v, t, l, r = symbols('v_o v_1 v_2 c i v t L R')\n",
    "v = Function(\"v\")(t)\n",
    "i = Function(\"i\")(t)\n",
    "\n",
    "print(\"Capacitor Equation :\")\n",
    "capacitor = Eq(Derivative(v, t) * c, i)\n",
    "display(Math(latex(capacitor)))\n",
    "\n",
    "print(\"Inductor Equation :\")\n",
    "inductor = Eq(Derivative(i, t) * l, v )\n",
    "display(Math(latex(inductor)))"
   ]
  },
  {
   "cell_type": "code",
   "execution_count": 4,
   "outputs": [
    {
     "data": {
      "text/plain": "-1.25j"
     },
     "execution_count": 4,
     "metadata": {},
     "output_type": "execute_result"
    }
   ],
   "source": [
    "def question4(x, w):\n",
    "    ans = ((1j * w * 5*10**-3)**(-1) + (1/(1j*w*x))**(-1))**(-1)\n",
    "    return ans\n",
    "question4(2.4*10**-3, 500)"
   ],
   "metadata": {
    "collapsed": false,
    "ExecuteTime": {
     "end_time": "2024-03-28T04:22:56.481285700Z",
     "start_time": "2024-03-28T04:22:56.470321200Z"
    }
   },
   "id": "3102050223b989ea"
  },
  {
   "cell_type": "code",
   "execution_count": 7,
   "outputs": [
    {
     "name": "stdout",
     "output_type": "stream",
     "text": [
      "3.6150897806655653\n"
     ]
    }
   ],
   "source": [
    "def question5(x,w):\n",
    "    L1 = 1j * 5*10**-3 * w\n",
    "    R1 = x\n",
    "    C1 = 1/(200 * 10**-6 * 1j * w)\n",
    "    L2 = 1j * 20*10**-3 * w\n",
    "    \n",
    "    return ((C1+L2)**-1 + R1**-1 + L1**-1)**-1\n",
    "\n",
    "print(np.abs(question5(13.6 , 1000)))"
   ],
   "metadata": {
    "collapsed": false,
    "ExecuteTime": {
     "end_time": "2024-03-28T04:27:40.130616400Z",
     "start_time": "2024-03-28T04:27:40.125547500Z"
    }
   },
   "id": "3f8bddb935c704e"
  },
  {
   "cell_type": "code",
   "execution_count": 17,
   "outputs": [
    {
     "name": "stdout",
     "output_type": "stream",
     "text": [
      "8.94427190999916  (4-8j)d\n"
     ]
    }
   ],
   "source": [
    "def question6():\n",
    "    C1 = -10j\n",
    "    R1 = 5\n",
    "    L1 = 10j\n",
    "    \n",
    "    return ((L1)**-1 + (R1)**-1)**-1 + C1\n",
    "\n",
    "q6 = question6()\n",
    "print(f\"{np.abs(question6())}  {question6()}d\")\n",
    "    \n",
    "    \n",
    "    "
   ],
   "metadata": {
    "collapsed": false,
    "ExecuteTime": {
     "end_time": "2024-03-28T04:51:29.254450Z",
     "start_time": "2024-03-28T04:51:29.243485400Z"
    }
   },
   "id": "43e64a8331084cb7"
  },
  {
   "cell_type": "code",
   "execution_count": 14,
   "outputs": [
    {
     "name": "stdout",
     "output_type": "stream",
     "text": [
      "5.5901699437494745\n"
     ]
    }
   ],
   "source": [
    "def question7():\n",
    "    return 50/q6\n",
    "q7 = question7()\n",
    "print(np.abs(question7()))"
   ],
   "metadata": {
    "collapsed": false,
    "ExecuteTime": {
     "end_time": "2024-03-28T04:45:35.456020100Z",
     "start_time": "2024-03-28T04:45:35.445008300Z"
    }
   },
   "id": "6efa38118921101a"
  },
  {
   "cell_type": "code",
   "execution_count": 15,
   "outputs": [
    {
     "name": "stdout",
     "output_type": "stream",
     "text": [
      "5.0\n"
     ]
    }
   ],
   "source": [
    "def question8():\n",
    "    L1 = 10j\n",
    "    R1 = 5\n",
    "    return q7 * L1/(L1 + R1)\n",
    "\n",
    "print(np.abs(question8()))"
   ],
   "metadata": {
    "collapsed": false,
    "ExecuteTime": {
     "end_time": "2024-03-28T04:47:30.379897400Z",
     "start_time": "2024-03-28T04:47:30.361957400Z"
    }
   },
   "id": "9b2395ad3ed616ac"
  },
  {
   "cell_type": "code",
   "execution_count": 18,
   "outputs": [
    {
     "name": "stdout",
     "output_type": "stream",
     "text": [
      "2.579077089862471\n"
     ]
    }
   ],
   "source": [
    "def question9(x):\n",
    "    pi = 3.14159265359\n",
    "    C1 = 1/(100*2*pi* 1*10**-3 *1j)\n",
    "    C2= 1/(100*2*pi* 2*10**-3 *1j)\n",
    "    C3= 1/(100*2*pi* x*10**-3 *1j)\n",
    "    \n",
    "    print(np.abs(C1 + C2 + C3))\n",
    "question9(8.3)"
   ],
   "metadata": {
    "collapsed": false,
    "ExecuteTime": {
     "end_time": "2024-03-28T04:51:31.275532600Z",
     "start_time": "2024-03-28T04:51:31.257592300Z"
    }
   },
   "id": "60ca04bfff95db6a"
  },
  {
   "cell_type": "code",
   "execution_count": 19,
   "outputs": [
    {
     "name": "stdout",
     "output_type": "stream",
     "text": [
      "18.723892215396404\n"
     ]
    }
   ],
   "source": [
    "def question10(x):\n",
    "    pi = 3.14159265359\n",
    "    C1 = (200*2*pi* 2*10**-3 *1j)\n",
    "    C2= (200*2*pi* 5*10**-3 *1j)\n",
    "    C3= (200*2*pi* x*10**-3 *1j)    \n",
    "    print(np.abs(C1 + C2 + C3))\n",
    "question10(7.9)"
   ],
   "metadata": {
    "collapsed": false,
    "ExecuteTime": {
     "end_time": "2024-03-28T04:53:01.346523900Z",
     "start_time": "2024-03-28T04:53:01.330577100Z"
    }
   },
   "id": "b39ad2932e269d2c"
  },
  {
   "cell_type": "code",
   "execution_count": null,
   "outputs": [],
   "source": [],
   "metadata": {
    "collapsed": false
   },
   "id": "15e3c57d6f895da7"
  }
 ],
 "metadata": {
  "kernelspec": {
   "display_name": "Python 3",
   "language": "python",
   "name": "python3"
  },
  "language_info": {
   "codemirror_mode": {
    "name": "ipython",
    "version": 2
   },
   "file_extension": ".py",
   "mimetype": "text/x-python",
   "name": "python",
   "nbconvert_exporter": "python",
   "pygments_lexer": "ipython2",
   "version": "2.7.6"
  }
 },
 "nbformat": 4,
 "nbformat_minor": 5
}
