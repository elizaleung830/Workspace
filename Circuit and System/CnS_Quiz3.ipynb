{
 "cells": [
  {
   "cell_type": "code",
   "execution_count": 2,
   "id": "initial_id",
   "metadata": {
    "collapsed": true,
    "ExecuteTime": {
     "end_time": "2024-03-14T06:41:01.523270Z",
     "start_time": "2024-03-14T06:41:01.519320Z"
    }
   },
   "outputs": [
    {
     "name": "stdout",
     "output_type": "stream",
     "text": [
      "Capacitor Equation :\n"
     ]
    },
    {
     "data": {
      "text/plain": "<IPython.core.display.Math object>",
      "text/latex": "$\\displaystyle c \\frac{d}{d t} v{\\left(t \\right)} = i{\\left(t \\right)}$"
     },
     "metadata": {},
     "output_type": "display_data"
    },
    {
     "name": "stdout",
     "output_type": "stream",
     "text": [
      "Inductor Equation :\n"
     ]
    },
    {
     "data": {
      "text/plain": "<IPython.core.display.Math object>",
      "text/latex": "$\\displaystyle L \\frac{d}{d t} i{\\left(t \\right)} = v{\\left(t \\right)}$"
     },
     "metadata": {},
     "output_type": "display_data"
    }
   ],
   "source": [
    "import math\n",
    "from sympy import *\n",
    "from IPython.display import display, Math\n",
    "vo, v1, v2, c, i, v, t, l, r = symbols('v_o v_1 v_2 c i v t L R')\n",
    "v = Function(\"v\")(t)\n",
    "i = Function(\"i\")(t)\n",
    "\n",
    "print(\"Capacitor Equation :\")\n",
    "capacitor = Eq(Derivative(v, t) * c, i)\n",
    "display(Math(latex(capacitor)))\n",
    "\n",
    "print(\"Inductor Equation :\")\n",
    "inductor = Eq(Derivative(i, t) * l, v )\n",
    "display(Math(latex(inductor)))"
   ]
  },
  {
   "cell_type": "code",
   "execution_count": 19,
   "outputs": [
    {
     "data": {
      "text/plain": "<IPython.core.display.Math object>",
      "text/latex": "$\\displaystyle 2.0375$"
     },
     "metadata": {},
     "output_type": "display_data"
    }
   ],
   "source": [
    "def question1(x):\n",
    "    v = lambda t: 5*cos(3*t)\n",
    "    C = 163 * 10**-3\n",
    "    return 0.5* C* v(0)**2\n",
    "display(Math(latex(question1(1))))"
   ],
   "metadata": {
    "collapsed": false,
    "ExecuteTime": {
     "end_time": "2024-03-14T07:07:00.567802300Z",
     "start_time": "2024-03-14T07:07:00.559914900Z"
    }
   },
   "id": "e31bd0075428fa2f"
  },
  {
   "cell_type": "code",
   "execution_count": 22,
   "outputs": [
    {
     "name": "stdout",
     "output_type": "stream",
     "text": [
      "6.875000000000001\n"
     ]
    }
   ],
   "source": [
    "def question2(c1,c2,c3):\n",
    "    return (c2**-1 + c3**-1)**-1 + c1\n",
    "print(question2(5*10**-3, 3*10**-3, 5*10**-3) * 10 **3)"
   ],
   "metadata": {
    "collapsed": false,
    "ExecuteTime": {
     "end_time": "2024-03-14T07:09:22.419356800Z",
     "start_time": "2024-03-14T07:09:22.412849600Z"
    }
   },
   "id": "eedfaad0eee266b2"
  },
  {
   "cell_type": "code",
   "execution_count": 27,
   "outputs": [
    {
     "name": "stdout",
     "output_type": "stream",
     "text": [
      "20.70\n"
     ]
    }
   ],
   "source": [
    "def question3(r,c):\n",
    "    return solve(Eq(-t/r/c , -1), t)[0].n(4)\n",
    "print(question3(6.9, 3*10**-3) * 1000)"
   ],
   "metadata": {
    "collapsed": false,
    "ExecuteTime": {
     "end_time": "2024-03-14T07:16:37.421948600Z",
     "start_time": "2024-03-14T07:16:37.401386700Z"
    }
   },
   "id": "a3d05ad464e50280"
  },
  {
   "cell_type": "code",
   "execution_count": 28,
   "outputs": [
    {
     "name": "stdout",
     "output_type": "stream",
     "text": [
      "0.016\n"
     ]
    }
   ],
   "source": [
    "def question4():\n",
    "    C = 5 * 10**-6 * 2\n",
    "    R = ((1500+6500)**-1 + 2000**-1)**-1\n",
    "    return R* C\n",
    "print(question4())"
   ],
   "metadata": {
    "collapsed": false,
    "ExecuteTime": {
     "end_time": "2024-03-14T07:18:55.848905400Z",
     "start_time": "2024-03-14T07:18:55.844898700Z"
    }
   },
   "id": "21e1fd36b34a300f"
  },
  {
   "cell_type": "code",
   "execution_count": 34,
   "outputs": [
    {
     "name": "stdout",
     "output_type": "stream",
     "text": [
      "-11.7\n"
     ]
    }
   ],
   "source": [
    "def question8(x):\n",
    "    return 5 * x  - 2 * x\n",
    "print(question8(3.9))"
   ],
   "metadata": {
    "collapsed": false,
    "ExecuteTime": {
     "end_time": "2024-03-14T07:31:18.437922Z",
     "start_time": "2024-03-14T07:31:18.433369100Z"
    }
   },
   "id": "dce7776d45bdc88c"
  },
  {
   "cell_type": "code",
   "execution_count": 35,
   "outputs": [
    {
     "name": "stdout",
     "output_type": "stream",
     "text": [
      "1.8604651162790697\n"
     ]
    }
   ],
   "source": [
    "print(8/4.3)"
   ],
   "metadata": {
    "collapsed": false,
    "ExecuteTime": {
     "end_time": "2024-03-14T07:35:02.285717500Z",
     "start_time": "2024-03-14T07:35:02.280208900Z"
    }
   },
   "id": "e1d15e7a551a2804"
  },
  {
   "cell_type": "code",
   "execution_count": 36,
   "outputs": [
    {
     "name": "stdout",
     "output_type": "stream",
     "text": [
      "-1.25\n"
     ]
    }
   ],
   "source": [
    "def question10(x):\n",
    "    return 3/x - 8/x\n",
    "print(question10(4))"
   ],
   "metadata": {
    "collapsed": false,
    "ExecuteTime": {
     "end_time": "2024-03-14T07:37:47.291209100Z",
     "start_time": "2024-03-14T07:37:47.285700Z"
    }
   },
   "id": "3decbe1d4e46043e"
  },
  {
   "cell_type": "code",
   "execution_count": null,
   "outputs": [],
   "source": [],
   "metadata": {
    "collapsed": false
   },
   "id": "17d2a2a970e22c98"
  }
 ],
 "metadata": {
  "kernelspec": {
   "display_name": "Python 3",
   "language": "python",
   "name": "python3"
  },
  "language_info": {
   "codemirror_mode": {
    "name": "ipython",
    "version": 2
   },
   "file_extension": ".py",
   "mimetype": "text/x-python",
   "name": "python",
   "nbconvert_exporter": "python",
   "pygments_lexer": "ipython2",
   "version": "2.7.6"
  }
 },
 "nbformat": 4,
 "nbformat_minor": 5
}
