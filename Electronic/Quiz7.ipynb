{
 "cells": [
  {
   "cell_type": "code",
   "execution_count": 3,
   "id": "initial_id",
   "metadata": {
    "collapsed": true,
    "ExecuteTime": {
     "end_time": "2024-04-24T14:34:35.773976600Z",
     "start_time": "2024-04-24T14:34:35.241374400Z"
    }
   },
   "outputs": [
    {
     "name": "stdout",
     "output_type": "stream",
     "text": [
      "start\n",
      "24.39\n"
     ]
    }
   ],
   "source": [
    "import math\n",
    "from sympy import *\n",
    "import math\n",
    "from IPython.display import display, Math\n",
    "vo, v1, v2, c, i, v, t, l, r, n, x = symbols('v_o v_1 v_2 c i v t L R n x')\n",
    "v = Function(\"v\")(t)\n",
    "i = Function(\"i\")(t)\n",
    "print(\"start\")\n",
    "eq = math.sqrt(integrate((61*10**-3 * sin(x))**2, (x, 0, pi))/(2*pi))\n",
    "eq = math.sqrt(integrate((48.78 * sin(x))**2, (x, 0, pi))/(2*pi))\n",
    "\n",
    "print(eq)"
   ]
  },
  {
   "cell_type": "code",
   "execution_count": 9,
   "outputs": [
    {
     "data": {
      "text/plain": "[0.951957295373665]"
     },
     "execution_count": 9,
     "metadata": {},
     "output_type": "execute_result"
    }
   ],
   "source": [
    "vb = symbols(\"v_B\")\n",
    "R1 = 250000\n",
    "R2 = 75000\n",
    "Re = 600\n",
    "b = 120\n",
    "a = 1\n",
    "\n",
    "solve(Eq((5-vb)/R1 -vb/R2 - (vb-0.7)/Re/b, 0), vb)"
   ],
   "metadata": {
    "collapsed": false,
    "ExecuteTime": {
     "end_time": "2024-04-24T15:15:03.691339700Z",
     "start_time": "2024-04-24T15:15:03.687688800Z"
    }
   },
   "id": "554581e5fc6d1c13"
  },
  {
   "cell_type": "code",
   "execution_count": 11,
   "outputs": [
    {
     "data": {
      "text/plain": "[0.952042719575490]"
     },
     "execution_count": 11,
     "metadata": {},
     "output_type": "execute_result"
    }
   ],
   "source": [
    "solve(Eq((1.154-vb)/57692.3 - (vb-0.7)/Re/b, 0), vb)"
   ],
   "metadata": {
    "collapsed": false,
    "ExecuteTime": {
     "end_time": "2024-04-24T15:15:49.468597Z",
     "start_time": "2024-04-24T15:15:49.464822100Z"
    }
   },
   "id": "d7d982ddf848cebc"
  },
  {
   "cell_type": "code",
   "execution_count": null,
   "outputs": [],
   "source": [
    "# question 3\n",
    "# natural mode is -1 "
   ],
   "metadata": {
    "collapsed": false
   },
   "id": "d41afb4d331176b0"
  }
 ],
 "metadata": {
  "kernelspec": {
   "display_name": "Python 3",
   "language": "python",
   "name": "python3"
  },
  "language_info": {
   "codemirror_mode": {
    "name": "ipython",
    "version": 2
   },
   "file_extension": ".py",
   "mimetype": "text/x-python",
   "name": "python",
   "nbconvert_exporter": "python",
   "pygments_lexer": "ipython2",
   "version": "2.7.6"
  }
 },
 "nbformat": 4,
 "nbformat_minor": 5
}
