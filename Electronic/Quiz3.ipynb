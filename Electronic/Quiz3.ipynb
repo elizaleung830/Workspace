{
 "cells": [
  {
   "cell_type": "code",
   "execution_count": 1,
   "id": "initial_id",
   "metadata": {
    "collapsed": true,
    "ExecuteTime": {
     "end_time": "2024-03-15T04:05:22.467498400Z",
     "start_time": "2024-03-15T04:05:19.625014700Z"
    }
   },
   "outputs": [
    {
     "name": "stdout",
     "output_type": "stream",
     "text": [
      "start\n",
      "24.39\n"
     ]
    }
   ],
   "source": [
    "import math\n",
    "from sympy import *\n",
    "import math\n",
    "from IPython.display import display, Math\n",
    "vo, v1, v2, c, i, v, t, l, r, n, x = symbols('v_o v_1 v_2 c i v t L R n x')\n",
    "v = Function(\"v\")(t)\n",
    "i = Function(\"i\")(t)\n",
    "print(\"start\")\n",
    "eq = math.sqrt(integrate((61*10**-3 * sin(x))**2, (x, 0, pi))/(2*pi))\n",
    "eq = math.sqrt(integrate((48.78 * sin(x))**2, (x, 0, pi))/(2*pi))\n",
    "\n",
    "print(eq)\n"
   ]
  },
  {
   "cell_type": "code",
   "execution_count": 5,
   "outputs": [
    {
     "name": "stdout",
     "output_type": "stream",
     "text": [
      "Eq(-40000*V_s/549, V_o)\n",
      "[-40000*V_s/549]\n"
     ]
    }
   ],
   "source": [
    "Vs = symbols(\"V_s\")\n",
    "Vo = symbols(\"V_o\")\n",
    "def question1(A,Ri, Ro, Rs, Rl):\n",
    "    vi = Vs * Ri/(Ri+ Rs)\n",
    "    eq = Eq(A*vi* Rl/(Rl + Ro), Vo)\n",
    "    print(eq)\n",
    "    return solve(eq, Vo)\n",
    "print(question1(-100, 50*10**3, 500, 11000, 4000))"
   ],
   "metadata": {
    "collapsed": false,
    "ExecuteTime": {
     "end_time": "2024-03-15T04:13:35.813674600Z",
     "start_time": "2024-03-15T04:13:35.765589Z"
    }
   },
   "id": "d0977f699137007f"
  },
  {
   "cell_type": "code",
   "execution_count": 8,
   "outputs": [
    {
     "name": "stdout",
     "output_type": "stream",
     "text": [
      "[-13/8]\n"
     ]
    }
   ],
   "source": [
    "def question2(x):\n",
    "    eq1 = Eq(-15, -8*v1 + 2)\n",
    "    eq2 = Eq(15, -8*v1 + 2)\n",
    "    return min(solve(eq1, v1), solve(eq2,v1))\n",
    "print(question2())"
   ],
   "metadata": {
    "collapsed": false,
    "ExecuteTime": {
     "end_time": "2024-03-15T04:19:50.673673700Z",
     "start_time": "2024-03-15T04:19:50.633573800Z"
    }
   },
   "id": "4ae0a9dbe2e6ea1c"
  },
  {
   "cell_type": "code",
   "execution_count": 13,
   "outputs": [
    {
     "name": "stdout",
     "output_type": "stream",
     "text": [
      "1.8724e-7\n"
     ]
    }
   ],
   "source": [
    "print(solve(Eq(85, 1/(2*pi*10000*c)), c)[0].n(5))"
   ],
   "metadata": {
    "collapsed": false,
    "ExecuteTime": {
     "end_time": "2024-03-15T04:28:46.300808300Z",
     "start_time": "2024-03-15T04:28:46.252648600Z"
    }
   },
   "id": "763774a701bb978a"
  },
  {
   "cell_type": "code",
   "execution_count": 14,
   "outputs": [
    {
     "name": "stdout",
     "output_type": "stream",
     "text": [
      "198.99999999999983\n",
      "0.9932885906040269\n"
     ]
    }
   ],
   "source": [
    "a= 0.995\n",
    "b = 148\n",
    "print(a/(1-a))\n",
    "print(b/(1+b))"
   ],
   "metadata": {
    "collapsed": false,
    "ExecuteTime": {
     "end_time": "2024-03-15T04:36:33.350734200Z",
     "start_time": "2024-03-15T04:36:33.246607Z"
    }
   },
   "id": "d058b6d07ecd326d"
  },
  {
   "cell_type": "code",
   "execution_count": 17,
   "outputs": [
    {
     "name": "stdout",
     "output_type": "stream",
     "text": [
      "0.0038095238095238095\n"
     ]
    }
   ],
   "source": [
    "def question6(b, ie):\n",
    "    a = b/(b+1)\n",
    "    return ie * a \n",
    "print(question6(20, 4*10**-3))"
   ],
   "metadata": {
    "collapsed": false,
    "ExecuteTime": {
     "end_time": "2024-03-15T04:39:28.234877800Z",
     "start_time": "2024-03-15T04:39:28.162756Z"
    }
   },
   "id": "b0e3e00ade705d7d"
  },
  {
   "cell_type": "code",
   "execution_count": 18,
   "outputs": [
    {
     "name": "stdout",
     "output_type": "stream",
     "text": [
      "0.00019047619047619048\n"
     ]
    }
   ],
   "source": [
    "def question7(b, ie):\n",
    "    a = b/(b+1)\n",
    "    return ie * a /b \n",
    "print(question7(20, 4*10**-3))"
   ],
   "metadata": {
    "collapsed": false,
    "ExecuteTime": {
     "end_time": "2024-03-15T04:40:38.764161200Z",
     "start_time": "2024-03-15T04:40:38.684166800Z"
    }
   },
   "id": "c6197bb8ee073a94"
  },
  {
   "cell_type": "code",
   "execution_count": null,
   "outputs": [],
   "source": [],
   "metadata": {
    "collapsed": false
   },
   "id": "8b7a3c10f6c42956"
  }
 ],
 "metadata": {
  "kernelspec": {
   "display_name": "Python 3",
   "language": "python",
   "name": "python3"
  },
  "language_info": {
   "codemirror_mode": {
    "name": "ipython",
    "version": 2
   },
   "file_extension": ".py",
   "mimetype": "text/x-python",
   "name": "python",
   "nbconvert_exporter": "python",
   "pygments_lexer": "ipython2",
   "version": "2.7.6"
  }
 },
 "nbformat": 4,
 "nbformat_minor": 5
}
