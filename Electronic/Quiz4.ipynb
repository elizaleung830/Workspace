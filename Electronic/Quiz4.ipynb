{
 "cells": [
  {
   "cell_type": "code",
   "execution_count": 16,
   "id": "initial_id",
   "metadata": {
    "collapsed": true,
    "ExecuteTime": {
     "end_time": "2024-03-21T04:36:41.600562700Z",
     "start_time": "2024-03-21T04:36:40.738441400Z"
    }
   },
   "outputs": [
    {
     "name": "stdout",
     "output_type": "stream",
     "text": [
      "start\n",
      "24.39\n"
     ]
    }
   ],
   "source": [
    "import math\n",
    "from sympy import *\n",
    "import math\n",
    "from IPython.display import display, Math\n",
    "vo, v1, v2, c, i, v, t, l, r, n, x = symbols('v_o v_1 v_2 c i v t L R n x')\n",
    "v = Function(\"v\")(t)\n",
    "i = Function(\"i\")(t)\n",
    "print(\"start\")\n",
    "eq = math.sqrt(integrate((61*10**-3 * sin(x))**2, (x, 0, pi))/(2*pi))\n",
    "eq = math.sqrt(integrate((48.78 * sin(x))**2, (x, 0, pi))/(2*pi))\n",
    "\n",
    "print(eq)"
   ]
  },
  {
   "cell_type": "code",
   "execution_count": 49,
   "outputs": [
    {
     "name": "stdout",
     "output_type": "stream",
     "text": [
      "1.1049382716049383\n"
     ]
    }
   ],
   "source": [
    "def question1(Rc, beta):\n",
    "    ie = (1.5-0.7)/2700\n",
    "    ic = beta/(1+beta) * ie\n",
    "    Vc = 1.5 - ic* Rc\n",
    "    return Vc\n",
    "\n",
    "print(question1(1400, 20))"
   ],
   "metadata": {
    "collapsed": false,
    "ExecuteTime": {
     "end_time": "2024-03-21T05:51:12.250078600Z",
     "start_time": "2024-03-21T05:51:12.231079200Z"
    }
   },
   "id": "f8b36b83d9e4a16d"
  },
  {
   "cell_type": "code",
   "execution_count": 50,
   "outputs": [
    {
     "name": "stdout",
     "output_type": "stream",
     "text": [
      "0.12388250319284803\n"
     ]
    }
   ],
   "source": [
    "def question2(Rc, beta):\n",
    "    ie = (1.5-0.7)/2700\n",
    "    ic = beta/(1+beta) * ie\n",
    "    ib = ie-ic\n",
    "    Vc = 1.5 - ic* Rc\n",
    "    return ib * 10, Vc\n",
    "\n",
    "# Saturation assumption\n",
    "def question2(Rc, beta):\n",
    "    ie = (1.5-0.7)/2700\n",
    "    Ve = -0.7\n",
    "    Vc = 0.2 + Ve\n",
    "    ic = (1.5 - Vc)/Rc\n",
    "    ib = ie - ic\n",
    "    return ib * 10 **3 \n",
    "    \n",
    "    \n",
    "print(question2(11600, 100))"
   ],
   "metadata": {
    "collapsed": false,
    "ExecuteTime": {
     "end_time": "2024-03-21T05:51:52.440359Z",
     "start_time": "2024-03-21T05:51:52.430359300Z"
    }
   },
   "id": "2f570e893010ec26"
  },
  {
   "cell_type": "code",
   "execution_count": 53,
   "outputs": [
    {
     "name": "stdout",
     "output_type": "stream",
     "text": [
      "642.8571428571429\n"
     ]
    }
   ],
   "source": [
    "def question3(ie):\n",
    "    Ve = 0.7\n",
    "    Re = (2.5 - Ve)/ie\n",
    "    return Re\n",
    "print(question3(2.8*10**-3))"
   ],
   "metadata": {
    "collapsed": false,
    "ExecuteTime": {
     "end_time": "2024-03-21T05:52:46.321192200Z",
     "start_time": "2024-03-21T05:52:46.306233Z"
    }
   },
   "id": "f8f19e09ce4c4b25"
  },
  {
   "cell_type": "code",
   "execution_count": 55,
   "outputs": [
    {
     "name": "stdout",
     "output_type": "stream",
     "text": [
      "3.6\n",
      "1.4999999999999998\n"
     ]
    },
    {
     "data": {
      "text/plain": "1.7000000000000002"
     },
     "execution_count": 55,
     "metadata": {},
     "output_type": "execute_result"
    }
   ],
   "source": [
    "# Assume active mode\n",
    "def question4(Vb , a):\n",
    "    Ve = Vb - 0.7\n",
    "    ic = Ve/1000\n",
    "    Vc = 3 - 1000* ic\n",
    "    return Vc\n",
    "print(question4(0.1,1))\n",
    "# Assume cut of mode:\n",
    "\n",
    "# Assume active mode\n",
    "def question5(Vb , a):\n",
    "    Ve = Vb - 0.7\n",
    "    ic = Ve/1000\n",
    "    Vc = 3 - 1000* ic\n",
    "    return Vc\n",
    "\n",
    "print(question5(2.2, 1))\n",
    "## Vce is 0\n",
    "## assume saturation mode\n",
    "def question5(Vb, a):\n",
    "    Ve = Vb - 0.7\n",
    "    Vc = Ve + 0.2\n",
    "    return Vc\n",
    "question5(2.2, 1)\n",
    "    \n",
    "    "
   ],
   "metadata": {
    "collapsed": false,
    "ExecuteTime": {
     "end_time": "2024-03-21T05:56:31.432949900Z",
     "start_time": "2024-03-21T05:56:31.400857600Z"
    }
   },
   "id": "fc85562623873e71"
  },
  {
   "cell_type": "code",
   "execution_count": 56,
   "outputs": [
    {
     "name": "stdout",
     "output_type": "stream",
     "text": [
      "1130.434782608696\n"
     ]
    }
   ],
   "source": [
    "def question6(Vc, beta):\n",
    "    ib = (3 - 0.7)/100000\n",
    "    ic = ib* beta\n",
    "    Rc = Vc/ic\n",
    "    return Rc\n",
    "print(question6(1.3, 50))"
   ],
   "metadata": {
    "collapsed": false,
    "ExecuteTime": {
     "end_time": "2024-03-21T06:00:10.659544700Z",
     "start_time": "2024-03-21T06:00:10.645543900Z"
    }
   },
   "id": "178de5fca8f075c5"
  },
  {
   "cell_type": "code",
   "execution_count": 35,
   "outputs": [
    {
     "name": "stdout",
     "output_type": "stream",
     "text": [
      "(1.9801980198019765e-06, 0.00019801980198019803, -0.4801980198019804, 0.21980198019801955)\n"
     ]
    }
   ],
   "source": [
    "# Assume active mode calculate ib and Vce \n",
    "def question7(beta):\n",
    "    Ve = -0.7\n",
    "    ie = (-0.7 + 1.5) / 4000\n",
    "    ic = beta/(1+beta) * ie\n",
    "    ib = ie - ic\n",
    "    Vc = 1.5 - ic * 10000\n",
    "    Vce = Vc - Ve\n",
    "    return ib,ic,Vc, Vce\n",
    "print(question7(100))"
   ],
   "metadata": {
    "collapsed": false,
    "ExecuteTime": {
     "end_time": "2024-03-21T04:57:49.360047300Z",
     "start_time": "2024-03-21T04:57:49.345046100Z"
    }
   },
   "id": "10ecb1dbc316a77e"
  },
  {
   "cell_type": "code",
   "execution_count": 33,
   "outputs": [
    {
     "name": "stdout",
     "output_type": "stream",
     "text": [
      "{Vb: -0.158730158730159, Vc: -0.0873015873015873}\n"
     ]
    },
    {
     "data": {
      "text/plain": "0.771428571428571",
      "text/latex": "$\\displaystyle 0.771428571428571$"
     },
     "execution_count": 33,
     "metadata": {},
     "output_type": "execute_result"
    }
   ],
   "source": [
    "Vc, Vb = symbols(\"Vc Vb\")\n",
    "def question8(beta):\n",
    "    \n",
    "    eq1 = Eq((1.5 - Vc)/10000 , beta * -Vb/100000)\n",
    "    eq2 = Eq(-Vb/100000, (Vb-0.7+1.5)/4000 - (1.5 - Vc)/10000)\n",
    "    \n",
    "    return solve((eq1, eq2) , (Vb,Vc))\n",
    "a = question8(100)\n",
    "print(a)\n",
    "a[Vc] - (a[Vb] - 0.7)"
   ],
   "metadata": {
    "collapsed": false,
    "ExecuteTime": {
     "end_time": "2024-03-21T04:53:21.810492400Z",
     "start_time": "2024-03-21T04:53:21.787481600Z"
    }
   },
   "id": "161535effdf691ea"
  },
  {
   "cell_type": "code",
   "execution_count": 41,
   "outputs": [
    {
     "name": "stdout",
     "output_type": "stream",
     "text": [
      "{Vb: -0.826923076923077, Vc: 1.50067307692308}\n"
     ]
    },
    {
     "data": {
      "text/plain": "3.02759615384615",
      "text/latex": "$\\displaystyle 3.02759615384615$"
     },
     "execution_count": 41,
     "metadata": {},
     "output_type": "execute_result"
    }
   ],
   "source": [
    "def question9(beta):\n",
    "    eq1 = Eq((-1.5 - Vb)/100000, (Vb - 0.7+ 1.5)/4000)\n",
    "    eq2 = Eq((-1.5 - Vb)/100000, (1.5- Vc)/10000 * 100)\n",
    "    return solve((eq1, eq2), (Vb,Vc))\n",
    "a = question9(100)\n",
    "print(a)\n",
    "a[Vc] - (a[Vb] - 0.7)"
   ],
   "metadata": {
    "collapsed": false,
    "ExecuteTime": {
     "end_time": "2024-03-21T05:12:21.703263700Z",
     "start_time": "2024-03-21T05:12:21.685263500Z"
    }
   },
   "id": "7e6e25b7b6734c2e"
  },
  {
   "cell_type": "code",
   "execution_count": 47,
   "outputs": [
    {
     "name": "stdout",
     "output_type": "stream",
     "text": [
      "(7.350000000000001, 0.00011499999999999999)\n"
     ]
    }
   ],
   "source": [
    "def question10(a):\n",
    "    beta = a/(1-a)\n",
    "    Ve = 0.7\n",
    "    ie = (3 - 0.7)/2000\n",
    "    ic = ie * a\n",
    "    Vc = ic * 10000 -3\n",
    "    ib = ic/beta\n",
    "    return Vc, ib\n",
    "\n",
    "print(question10(0.9))"
   ],
   "metadata": {
    "collapsed": false,
    "ExecuteTime": {
     "end_time": "2024-03-21T05:37:19.068664700Z",
     "start_time": "2024-03-21T05:37:19.058664500Z"
    }
   },
   "id": "a101f5961b9f729f"
  },
  {
   "cell_type": "code",
   "execution_count": null,
   "outputs": [],
   "source": [],
   "metadata": {
    "collapsed": false
   },
   "id": "1b0ad1c30e6b77ce"
  }
 ],
 "metadata": {
  "kernelspec": {
   "display_name": "Python 3",
   "language": "python",
   "name": "python3"
  },
  "language_info": {
   "codemirror_mode": {
    "name": "ipython",
    "version": 2
   },
   "file_extension": ".py",
   "mimetype": "text/x-python",
   "name": "python",
   "nbconvert_exporter": "python",
   "pygments_lexer": "ipython2",
   "version": "2.7.6"
  }
 },
 "nbformat": 4,
 "nbformat_minor": 5
}
