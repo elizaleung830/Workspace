{
 "cells": [
  {
   "cell_type": "code",
   "execution_count": 1,
   "id": "initial_id",
   "metadata": {
    "collapsed": true,
    "ExecuteTime": {
     "end_time": "2024-03-28T01:44:31.975563500Z",
     "start_time": "2024-03-28T01:44:31.009794900Z"
    }
   },
   "outputs": [
    {
     "name": "stdout",
     "output_type": "stream",
     "text": [
      "start\n",
      "24.39\n"
     ]
    }
   ],
   "source": [
    "import math\n",
    "from sympy import *\n",
    "import math\n",
    "from IPython.display import display, Math\n",
    "vo, v1, v2, c, i, v, t, l, r, n, x = symbols('v_o v_1 v_2 c i v t L R n x')\n",
    "v = Function(\"v\")(t)\n",
    "i = Function(\"i\")(t)\n",
    "print(\"start\")\n",
    "eq = math.sqrt(integrate((61*10**-3 * sin(x))**2, (x, 0, pi))/(2*pi))\n",
    "eq = math.sqrt(integrate((48.78 * sin(x))**2, (x, 0, pi))/(2*pi))\n",
    "\n",
    "print(eq)"
   ]
  },
  {
   "cell_type": "code",
   "execution_count": 6,
   "outputs": [
    {
     "name": "stdout",
     "output_type": "stream",
     "text": [
      "3.32871012482663e-5\n"
     ]
    }
   ],
   "source": [
    "# Saturation mode\n",
    "Vce = 0.2\n",
    "Vbe = 0.7\n",
    "beta = 120\n",
    "Ve, Vbb = symbols(\"V_e V_bb\")\n",
    "eq1 = Eq(Ve/200, (Vbb - (Ve + 0.7))/100000 +  (5-Ve- 0.2)/1000)\n",
    "eq2 = Eq((5-Ve- 0.2)/1000 , beta *(Vbb - (Ve + 0.7))/100000)\n",
    "\n",
    "ans = solve((eq1,eq2), (Vbb, Ve))\n",
    "ib = (ans[Vbb] - (ans[Ve] + 0.7))/100000\n",
    "print(ib)"
   ],
   "metadata": {
    "collapsed": false,
    "ExecuteTime": {
     "end_time": "2024-03-28T02:07:22.396396600Z",
     "start_time": "2024-03-28T02:07:22.322067700Z"
    }
   },
   "id": "1f37659f893f15da"
  },
  {
   "cell_type": "code",
   "execution_count": 11,
   "outputs": [
    {
     "name": "stdout",
     "output_type": "stream",
     "text": [
      "17750.0 4749.999999999999 784.3137254901958\n"
     ]
    }
   ],
   "source": [
    "ic = 2* 10**-3\n",
    "beta = 50\n",
    "alpha = beta/(1+ beta)\n",
    "Vce = 3\n",
    "\n",
    "ib = ic/beta\n",
    "ie = ic/alpha\n",
    "\n",
    "Vc = 9- ic * 2200\n",
    "Ve = Vc - 3\n",
    "Re = Ve/ie\n",
    "\n",
    "Vb = Ve + 0.3\n",
    "i1 = 10*ib\n",
    "R1 = (9 - Vb)/i1\n",
    "\n",
    "R2 = Vb/i1\n",
    "\n",
    "print(f\"{R1} {R2} {Re}\")"
   ],
   "metadata": {
    "collapsed": false,
    "ExecuteTime": {
     "end_time": "2024-03-28T02:33:04.195953900Z",
     "start_time": "2024-03-28T02:33:04.178013100Z"
    }
   },
   "id": "b87beac0329dbae3"
  },
  {
   "cell_type": "code",
   "execution_count": 12,
   "outputs": [
    {
     "name": "stdout",
     "output_type": "stream",
     "text": [
      "20833.333333333332\n"
     ]
    }
   ],
   "source": [
    "icq = 0.12 * 10 **-3\n",
    "Vceq = 0.9\n",
    "Vcc = 3.4\n",
    "\n",
    "Rc  = (Vcc - Vceq)/ icq\n",
    "\n",
    "print(Rc)\n"
   ],
   "metadata": {
    "collapsed": false,
    "ExecuteTime": {
     "end_time": "2024-03-28T02:40:57.506529700Z",
     "start_time": "2024-03-28T02:40:57.480386700Z"
    }
   },
   "id": "752a5ddc05be58a1"
  },
  {
   "cell_type": "code",
   "execution_count": 14,
   "outputs": [
    {
     "name": "stdout",
     "output_type": "stream",
     "text": [
      "2.510833333333333\n"
     ]
    }
   ],
   "source": [
    "icq = 0.12 * 10 **-3\n",
    "Vceq = 0.9\n",
    "Vcc = 3\n",
    "beta = 131\n",
    "\n",
    "Rc  = (Vcc - Vceq)/ icq\n",
    "\n",
    "\n",
    "ib = icq/beta\n",
    "Vb = 0.7\n",
    "Rb = (Vcc - Vb)/ib\n",
    "print(Rb/10**6)"
   ],
   "metadata": {
    "collapsed": false,
    "ExecuteTime": {
     "end_time": "2024-03-28T02:44:20.893519700Z",
     "start_time": "2024-03-28T02:44:20.878569100Z"
    }
   },
   "id": "81d90162e51ed4d4"
  },
  {
   "cell_type": "code",
   "execution_count": null,
   "outputs": [],
   "source": [],
   "metadata": {
    "collapsed": false
   },
   "id": "b527d5cd8054a3c5"
  }
 ],
 "metadata": {
  "kernelspec": {
   "display_name": "Python 3",
   "language": "python",
   "name": "python3"
  },
  "language_info": {
   "codemirror_mode": {
    "name": "ipython",
    "version": 2
   },
   "file_extension": ".py",
   "mimetype": "text/x-python",
   "name": "python",
   "nbconvert_exporter": "python",
   "pygments_lexer": "ipython2",
   "version": "2.7.6"
  }
 },
 "nbformat": 4,
 "nbformat_minor": 5
}
