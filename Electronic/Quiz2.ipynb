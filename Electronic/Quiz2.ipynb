{
 "cells": [
  {
   "cell_type": "code",
   "execution_count": 5,
   "id": "initial_id",
   "metadata": {
    "collapsed": true,
    "ExecuteTime": {
     "end_time": "2024-03-12T02:46:30.070068Z",
     "start_time": "2024-03-12T02:46:29.939720300Z"
    }
   },
   "outputs": [
    {
     "name": "stdout",
     "output_type": "stream",
     "text": [
      "start\n",
      "24.39\n"
     ]
    }
   ],
   "source": [
    "import math\n",
    "from sympy import *\n",
    "import math\n",
    "from IPython.display import display, Math\n",
    "vo, v1, v2, c, i, v, t, l, r, n, x = symbols('v_o v_1 v_2 c i v t L R n x')\n",
    "v = Function(\"v\")(t)\n",
    "i = Function(\"i\")(t)\n",
    "print(\"start\")\n",
    "eq = math.sqrt(integrate((61*10**-3 * sin(x))**2, (x, 0, pi))/(2*pi))\n",
    "eq = math.sqrt(integrate((48.78 * sin(x))**2, (x, 0, pi))/(2*pi))\n",
    "\n",
    "print(eq)\n"
   ]
  },
  {
   "cell_type": "code",
   "execution_count": null,
   "outputs": [],
   "source": [],
   "metadata": {
    "collapsed": false
   },
   "id": "637339aaadd277ac"
  }
 ],
 "metadata": {
  "kernelspec": {
   "display_name": "Python 3",
   "language": "python",
   "name": "python3"
  },
  "language_info": {
   "codemirror_mode": {
    "name": "ipython",
    "version": 2
   },
   "file_extension": ".py",
   "mimetype": "text/x-python",
   "name": "python",
   "nbconvert_exporter": "python",
   "pygments_lexer": "ipython2",
   "version": "2.7.6"
  }
 },
 "nbformat": 4,
 "nbformat_minor": 5
}
